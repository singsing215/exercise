{
 "cells": [
  {
   "cell_type": "code",
   "execution_count": 2,
   "metadata": {},
   "outputs": [
    {
     "name": "stdout",
     "output_type": "stream",
     "text": [
      "\n",
      " X = \n",
      " [[1 2 1 2]\n",
      " [0 1 0 1]\n",
      " [1 0 1 0]\n",
      " [1 2 3 4]]\n",
      "\n",
      "U = \n",
      " [[-4.75476154e-01 -3.59569458e-01  6.91350537e-01  4.08248290e-01]\n",
      " [-1.81373693e-01 -5.42963863e-01  7.50143992e-02 -8.16496581e-01]\n",
      " [-1.12728767e-01  7.26358268e-01  5.41321739e-01 -4.08248290e-01]\n",
      " [-8.53415629e-01  2.19781061e-01 -4.72628871e-01 -1.74893882e-16]]\n",
      "s = \n",
      " [6.38105353e+00 1.49005261e+00 1.03048489e+00 8.36700260e-17]\n",
      "VT = \n",
      " [[-0.22592203 -0.4449355  -0.49340627 -0.71241974]\n",
      " [ 0.39365716 -0.55202122  0.68865488 -0.2570235 ]\n",
      " [ 0.737559    0.49729767 -0.17973513 -0.41999646]\n",
      " [ 0.5        -0.5        -0.5         0.5       ]]\n",
      "\n",
      " X_1 = \n",
      " [[0.68545619 1.34995157 1.49701376 2.16150913]\n",
      " [0.26147204 0.51494844 0.57104633 0.82452273]\n",
      " [0.16251211 0.3200547  0.35492109 0.51246368]\n",
      " [1.23030151 2.42298118 2.68693798 3.87961765]]\n",
      "norm(X,X1) = 1.81\n",
      "\n",
      " X_2 = \n",
      " [[ 0.47454358  1.64571207  1.12804803  2.29921652]\n",
      " [-0.0570142   0.96155829  0.01389374  1.03246623]\n",
      " [ 0.58857198 -0.27740451  1.10026055  0.23428405]\n",
      " [ 1.35921846  2.24220232  2.91246236  3.79544622]]\n",
      "norm(X,X2) = 1.03\n",
      "\n",
      " X_3 = \n",
      " [[ 1.00000000e+00  2.00000000e+00  1.00000000e+00  2.00000000e+00]\n",
      " [-1.85377998e-16  1.00000000e+00 -1.96513226e-16  1.00000000e+00]\n",
      " [ 1.00000000e+00 -1.47414269e-15  1.00000000e+00 -6.77204812e-16]\n",
      " [ 1.00000000e+00  2.00000000e+00  3.00000000e+00  4.00000000e+00]]\n",
      "norm(X,X3) = 0.00\n"
     ]
    },
    {
     "data": {
      "text/plain": [
       "Text(0, 0.5, 'Norm(X,X_k)')"
      ]
     },
     "execution_count": 2,
     "metadata": {},
     "output_type": "execute_result"
    },
    {
     "data": {
      "image/png": "[encoded data removed]",
      "text/plain": [
       "<Figure size 432x288 with 1 Axes>"
      ]
     },
     "metadata": {
      "needs_background": "light"
     },
     "output_type": "display_data"
    }
   ],
   "source": [
    "import numpy as np \n",
    "import matplotlib.pyplot as pt\n",
    "from scipy.linalg import svd \n",
    "\n",
    "X = np.array([[1, 2, 1, 2], [0, 1, 0, 1], [1, 0, 1, 0], [1, 2, 3, 4] ]) # SVD: X = U*s*V^T \n",
    "U, s, VT = svd(X)\n",
    "recovered_X = U.dot(np.diag(s)).dot(VT) \n",
    "print('\\n X = \\n', X) \n",
    "print('\\nU = \\n', U) \n",
    "print('s = \\n', s) \n",
    "print('VT = \\n', VT)\n",
    "\n",
    "\n",
    "# Truncated SVD: to k dim \n",
    "err = [0,0,0] \n",
    "for k in [1,2,3]:\n",
    "    recovered_X= U[:,:k].dot(np.diag(s)[:k,:k]).dot(VT [:k, :])\n",
    "    print(\"\\n X_%d = \\n\" %k , recovered_X) \n",
    "    print(\"norm(X,X%d) = %3.2f\" %(k,np.linalg.norm(X-recovered_X))) \n",
    "    err[k-1] = np.linalg.norm(X-recovered_X);\n",
    "pt.plot([1,2,3],err, \"ro-\") \n",
    "pt.bar([1,2,3],err) \n",
    "pt.xlabel(\"k - dimension\") \n",
    "pt.ylabel(\"Norm(X,X_k)\")\n"
   ]
  },
  {
   "cell_type": "code",
   "execution_count": null,
   "metadata": {},
   "outputs": [],
   "source": []
  }
 ],
 "metadata": {
  "kernelspec": {
   "display_name": "Python 3",
   "language": "python",
   "name": "python3"
  },
  "language_info": {
   "codemirror_mode": {
    "name": "ipython",
    "version": 3
   },
   "file_extension": ".py",
   "mimetype": "text/x-python",
   "name": "python",
   "nbconvert_exporter": "python",
   "pygments_lexer": "ipython3",
   "version": "3.7.3"
  }
 },
 "nbformat": 4,
 "nbformat_minor": 2
}
